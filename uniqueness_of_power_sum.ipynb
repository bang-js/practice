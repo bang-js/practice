{
  "nbformat": 4,
  "nbformat_minor": 0,
  "metadata": {
    "colab": {
      "name": "uniqueness of power sum.ipynb",
      "provenance": [],
      "collapsed_sections": [],
      "authorship_tag": "ABX9TyPw/uP+XtITi090LeqYvYcm"
    },
    "kernelspec": {
      "name": "python3",
      "display_name": "Python 3"
    },
    "language_info": {
      "name": "python"
    }
  },
  "cells": [
    {
      "cell_type": "markdown",
      "source": [
        "∃ $m_{1},m_2, ..., m_l$ \\\n",
        "s.t. $n_1^1+n_2^2+ ...+n_k^k = m_1^1+m_2^2+...+m_l^l $ \\\n",
        "where $n_1 < n_2 < ... < n_k  \\;\\;and\\;\\; m_{1}<m_2< ...<m_l $\n",
        "\n"
      ],
      "metadata": {
        "id": "jbqtafCFunDe"
      }
    }
  ]
}